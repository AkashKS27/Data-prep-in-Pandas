{
  "nbformat": 4,
  "nbformat_minor": 0,
  "metadata": {
    "anaconda-cloud": {},
    "kernelspec": {
      "display_name": "Python [Root]",
      "language": "python",
      "name": "Python [Root]"
    },
    "language_info": {
      "codemirror_mode": {
        "name": "ipython",
        "version": 3
      },
      "file_extension": ".py",
      "mimetype": "text/x-python",
      "name": "python",
      "nbconvert_exporter": "python",
      "pygments_lexer": "ipython3",
      "version": "3.5.1"
    },
    "colab": {
      "name": "WPI_Assignment_DL_2.ipynb",
      "provenance": [],
      "toc_visible": true
    }
  },
  "cells": [
    {
      "cell_type": "markdown",
      "metadata": {
        "id": "QBkBsU_BCvbl"
      },
      "source": [
        "# Deep Learning for Autonomous Vechicles\n",
        "\n",
        "**Module 1 Assignment: Creating Columns in Pandas**\n",
        "\n",
        "**Student Name: Akash Krishnagiri Sridharan**"
      ]
    },
    {
      "cell_type": "markdown",
      "metadata": {
        "id": "5RW9yFztCvbs"
      },
      "source": [
        "# Assignment Instructions\n",
        "\n",
        "For this assignment you will use the **reg-30-spring-2018.csv** dataset.  \n",
        "\n",
        "For this assignment, load and modify the data set.  \n",
        "Modify the dataset as follows:\n",
        "\n",
        "* Add a column named *density* that is *weight* divided by *volume*.\n",
        "* Replace the *region* column with dummy variables. \n",
        "* Replace the *item* column with an index encoding value (for example 0 for the first class, 1 for the next, etc. see function *encode_text_index*)\n",
        "* Your submitted dataframe will have these columns: id, distance, height, landings, number, pack, age, usage, weight, item, volume, width, max, power, size, target, density, region-RE-0, region-RE-1, region-RE-10, region-RE-11, region-RE-2, region-RE-3, region-RE-4, region-RE-5, region-RE-6, region-RE-7, region-RE-8, region-RE-9, region-RE-A, region-RE-B, region-RE-C, region-RE-D, region-RE-E, region-RE-F."
      ]
    },
    {
      "cell_type": "markdown",
      "metadata": {
        "collapsed": true,
        "id": "hu2ivcFoCvbw"
      },
      "source": [
        "# Assignment #2 Code"
      ]
    },
    {
      "cell_type": "code",
      "metadata": {
        "collapsed": true,
        "id": "UFn2YIcSCvbz"
      },
      "source": [
        "import os\n",
        "import pandas as pd\n",
        "from scipy.stats import zscore\n",
        "from sklearn import preprocessing\n",
        "import matplotlib.pyplot as plt\n",
        "import numpy as np\n",
        "import pandas as pd\n",
        "import shutil\n",
        "import os\n",
        "import requests\n",
        "import base64\n",
        "\n",
        "file = '/content/reg-30-spring-2018.csv'\n",
        "\n",
        "# Begin assignment\n",
        "path = \"./data/\"\n",
        "\n",
        "filename_read = os.path.join(path,\"reg-30-spring-2018.csv\")\n",
        "df = pd.read_csv(file)\n",
        "\n",
        "# Calculate density\n",
        "df['density'] = df['weight']/df['volume']\n",
        "# Encode dummies\n",
        "def encode_text_dummy(df, name):\n",
        "    dummies = pd.get_dummies(df[name])\n",
        "    for x in dummies.columns:\n",
        "        dummy_name = \"{}-{}\".format(name, x)\n",
        "        df[dummy_name] = dummies[x]\n",
        "    df.drop(name, axis=1, inplace=True)\n",
        "encode_text_dummy(df, \"region\")\n",
        "#Index encoding\n",
        "def encode_text_index(df, name):\n",
        "    le = preprocessing.LabelEncoder()\n",
        "    df[name] = le.fit_transform(df[name])\n",
        "    return le.classes_\n",
        "a= encode_text_index(df, \"item\")    \n",
        "#Saving in another .CSV file\n",
        "df.to_csv('2.csv',index=False)\n",
        "\n"
      ],
      "execution_count": 3,
      "outputs": []
    },
    {
      "cell_type": "code",
      "metadata": {
        "collapsed": true,
        "id": "Kn6gblfzCvb2"
      },
      "source": [
        ""
      ],
      "execution_count": null,
      "outputs": []
    }
  ]
}