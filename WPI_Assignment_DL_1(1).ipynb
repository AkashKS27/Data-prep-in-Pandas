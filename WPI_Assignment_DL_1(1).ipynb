{
  "nbformat": 4,
  "nbformat_minor": 0,
  "metadata": {
    "anaconda-cloud": {},
    "kernelspec": {
      "display_name": "Python [Root]",
      "language": "python",
      "name": "Python [Root]"
    },
    "language_info": {
      "codemirror_mode": {
        "name": "ipython",
        "version": 3
      },
      "file_extension": ".py",
      "mimetype": "text/x-python",
      "name": "python",
      "nbconvert_exporter": "python",
      "pygments_lexer": "ipython3",
      "version": "3.5.1"
    },
    "colab": {
      "name": "WPI_Assignment_DL_1.ipynb",
      "provenance": []
    }
  },
  "cells": [
    {
      "cell_type": "markdown",
      "metadata": {
        "id": "XyKSyMwA5GnC"
      },
      "source": [
        "# Deep Neural For Autonomous Vehicles\n",
        "\n",
        "**Module 1 Assignment: Data Preparation in Pandas**\n",
        "\n",
        "**Student Name: Your Name**"
      ]
    },
    {
      "cell_type": "markdown",
      "metadata": {
        "id": "mWjwKyzU5GnK"
      },
      "source": [
        "# Assignment Instructions\n",
        "\n",
        "For this assignment you will use the **reg-30-spring-2018.csv** dataset.\n",
        "\n",
        "For this assignment, load and modify the data set.\n",
        "\n",
        "Modify the dataset as follows:\n",
        "\n",
        "* Drop the *id* column.\n",
        "* Replace the missing values (NA's) in the *width* column with the median width. (obviously, do not use the NA's to calculate the median for this replacement)\n",
        "* Replace the following columns with their z-score: *landings*, *number*, and *pack*.\n",
        "* All other columns should be left unchanged.\n",
        "* If is unlikely that you will get any submit warnings if you completed this assignment correctly.\n",
        "* Your submitted dataframe will have these columns: distance, height, landings, number, pack, age,  usage, region, weight, item, volume, width, max, power, size, target.\n",
        "\n"
      ]
    },
    {
      "cell_type": "markdown",
      "metadata": {
        "collapsed": true,
        "id": "ga2F0jMx5GnN"
      },
      "source": [
        "# Assignment #1 Code\n",
        "\n"
      ]
    },
    {
      "cell_type": "code",
      "metadata": {
        "collapsed": true,
        "id": "kA9rDGIi5GnO"
      },
      "source": [
        "import os\n",
        "import pandas as pd\n",
        "from scipy.stats import zscore\n",
        "from sklearn import preprocessing\n",
        "import matplotlib.pyplot as plt\n",
        "import numpy as np\n",
        "import shutil\n",
        "import requests\n",
        "import base64\n",
        "\n",
        "file = '/content/reg-30-spring-2018.csv'\n",
        "\n",
        "# Begin assignment\n",
        "path = \"./data/\"\n",
        "\n",
        "filename_read = os.path.join(path,\"reg-30-spring-2018.csv\")\n",
        "df = pd.read_csv(file)\n",
        "\n",
        "# Drop ID\n",
        "df.drop([\"id\"], axis = 1, inplace = True) \n",
        "# Replace width NA's with median\n",
        "def missing_median(df, name):\n",
        "    med = df[name].median()\n",
        "    df[name] = df[name].fillna(med)\n",
        "missing_median(df, \"width\")\n",
        "# ZScore\n",
        "def encode_numeric_zscore(df, name, mean=None, sd=None):\n",
        "    if mean is None:\n",
        "        mean = df[name].mean()\n",
        "\n",
        "    if sd is None:\n",
        "        sd = df[name].std()\n",
        "\n",
        "    df[name] = (df[name] - mean) / sd\n",
        "\n",
        "encode_numeric_zscore(df, \"landings\")\n",
        "encode_numeric_zscore(df, \"number\")\n",
        "encode_numeric_zscore(df, \"pack\")\n",
        "\n",
        "# You might want to save to a CSV, just to look at\n",
        "df.to_csv('1.csv',index=False)\n"
      ],
      "execution_count": 10,
      "outputs": []
    }
  ]
}